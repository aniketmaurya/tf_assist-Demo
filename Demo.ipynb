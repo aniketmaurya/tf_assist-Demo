{
  "nbformat": 4,
  "nbformat_minor": 0,
  "metadata": {
    "colab": {
      "name": "Demo.ipynb",
      "version": "0.3.2",
      "provenance": [],
      "include_colab_link": true
    },
    "kernelspec": {
      "name": "python3",
      "display_name": "Python 3"
    },
    "accelerator": "GPU"
  },
  "cells": [
    {
      "cell_type": "markdown",
      "metadata": {
        "id": "view-in-github",
        "colab_type": "text"
      },
      "source": [
        "<a href=\"https://colab.research.google.com/github/aniketmaurya/tf_assist-Demo/blob/master/Demo.ipynb\" target=\"_parent\"><img src=\"https://colab.research.google.com/assets/colab-badge.svg\" alt=\"Open In Colab\"/></a>"
      ]
    },
    {
      "cell_type": "code",
      "metadata": {
        "id": "nsFcvJAp0b0l",
        "colab_type": "code",
        "colab": {}
      },
      "source": [
        "import gc\n",
        "from pathlib import Path\n",
        "import matplotlib.pyplot as plt"
      ],
      "execution_count": 0,
      "outputs": []
    },
    {
      "cell_type": "code",
      "metadata": {
        "id": "p686d4wM0lzE",
        "colab_type": "code",
        "colab": {}
      },
      "source": [
        "! pip install tensorflow==2.0.0-beta0"
      ],
      "execution_count": 0,
      "outputs": []
    },
    {
      "cell_type": "code",
      "metadata": {
        "id": "yladRMiM0sQE",
        "colab_type": "code",
        "colab": {}
      },
      "source": [
        "!pip install tf_assist==0.1.4"
      ],
      "execution_count": 0,
      "outputs": []
    },
    {
      "cell_type": "code",
      "metadata": {
        "id": "2Obw5LIr4fa9",
        "colab_type": "code",
        "colab": {}
      },
      "source": [
        "!git clone https://github.com/aniketmaurya/tf_assist-Demo.git"
      ],
      "execution_count": 0,
      "outputs": []
    },
    {
      "cell_type": "code",
      "metadata": {
        "id": "g_en2DP70b0s",
        "colab_type": "code",
        "colab": {
          "base_uri": "https://localhost:8080/",
          "height": 35
        },
        "outputId": "e327f9b0-e5a7-41f5-9b1e-7e829a4604fb"
      },
      "source": [
        "!ls tf_assist-Demo"
      ],
      "execution_count": 19,
      "outputs": [
        {
          "output_type": "stream",
          "text": [
            "catdogs  Demo.ipynb  test2.jpg\n"
          ],
          "name": "stdout"
        }
      ]
    },
    {
      "cell_type": "code",
      "metadata": {
        "id": "ixMheU9c1haW",
        "colab_type": "code",
        "colab": {}
      },
      "source": [
        ""
      ],
      "execution_count": 0,
      "outputs": []
    },
    {
      "cell_type": "code",
      "metadata": {
        "id": "Y9EDVSB51hgd",
        "colab_type": "code",
        "colab": {}
      },
      "source": [
        ""
      ],
      "execution_count": 0,
      "outputs": []
    },
    {
      "cell_type": "code",
      "metadata": {
        "id": "A7iLkwSi1hk4",
        "colab_type": "code",
        "colab": {}
      },
      "source": [
        ""
      ],
      "execution_count": 0,
      "outputs": []
    },
    {
      "cell_type": "code",
      "metadata": {
        "id": "PGEgNxt11hos",
        "colab_type": "code",
        "colab": {}
      },
      "source": [
        "from assist.vision import ImageDataBunch"
      ],
      "execution_count": 0,
      "outputs": []
    },
    {
      "cell_type": "code",
      "metadata": {
        "id": "5998V7R80b01",
        "colab_type": "code",
        "colab": {
          "base_uri": "https://localhost:8080/",
          "height": 87
        },
        "outputId": "a045a318-fbf0-4da5-d1f4-e89c40a1171e"
      },
      "source": [
        "data = ImageDataBunch((128, 128))\n",
        "data.from_folder('tf_assist-Demo/catdogs', valid_folder='val')"
      ],
      "execution_count": 22,
      "outputs": [
        {
          "output_type": "stream",
          "text": [
            "Found 36 images belonging to 2 classes.\n",
            "Found 36 images belonging to 2 classes.\n"
          ],
          "name": "stdout"
        },
        {
          "output_type": "execute_result",
          "data": {
            "text/plain": [
              "(<keras_preprocessing.image.directory_iterator.DirectoryIterator at 0x7f00ca91ec88>,\n",
              " <keras_preprocessing.image.directory_iterator.DirectoryIterator at 0x7f00e052a2b0>)"
            ]
          },
          "metadata": {
            "tags": []
          },
          "execution_count": 22
        }
      ]
    },
    {
      "cell_type": "code",
      "metadata": {
        "id": "uSC4tjKm1g5J",
        "colab_type": "code",
        "colab": {}
      },
      "source": [
        ""
      ],
      "execution_count": 0,
      "outputs": []
    },
    {
      "cell_type": "code",
      "metadata": {
        "id": "5YOrGgd40b07",
        "colab_type": "code",
        "colab": {
          "base_uri": "https://localhost:8080/",
          "height": 35
        },
        "outputId": "ea18e51f-6e0b-466e-a078-96adca306412"
      },
      "source": [
        "data.train_size"
      ],
      "execution_count": 23,
      "outputs": [
        {
          "output_type": "execute_result",
          "data": {
            "text/plain": [
              "36"
            ]
          },
          "metadata": {
            "tags": []
          },
          "execution_count": 23
        }
      ]
    },
    {
      "cell_type": "code",
      "metadata": {
        "id": "5lcmHl6X0b1G",
        "colab_type": "code",
        "colab": {
          "base_uri": "https://localhost:8080/",
          "height": 35
        },
        "outputId": "c2f87c64-2399-4b78-b6bb-b705bf548901"
      },
      "source": [
        "data.image_shape"
      ],
      "execution_count": 24,
      "outputs": [
        {
          "output_type": "execute_result",
          "data": {
            "text/plain": [
              "(128, 128)"
            ]
          },
          "metadata": {
            "tags": []
          },
          "execution_count": 24
        }
      ]
    },
    {
      "cell_type": "code",
      "metadata": {
        "id": "6gSWNSle0b1L",
        "colab_type": "code",
        "colab": {
          "base_uri": "https://localhost:8080/",
          "height": 35
        },
        "outputId": "a7131044-f04b-44b8-c11c-980e70dc363a"
      },
      "source": [
        "data.val_size"
      ],
      "execution_count": 25,
      "outputs": [
        {
          "output_type": "execute_result",
          "data": {
            "text/plain": [
              "36"
            ]
          },
          "metadata": {
            "tags": []
          },
          "execution_count": 25
        }
      ]
    },
    {
      "cell_type": "code",
      "metadata": {
        "id": "erp2Cx_A0b1T",
        "colab_type": "code",
        "colab": {
          "base_uri": "https://localhost:8080/",
          "height": 87
        },
        "outputId": "4762ff0d-7f70-46c6-e02d-c939d8b511cd"
      },
      "source": [
        "path = Path('tf_assist-Demo/catdogs')\n",
        "data = ImageDataBunch((128, 128))\n",
        "data.from_folder(path, valid_folder='val')"
      ],
      "execution_count": 27,
      "outputs": [
        {
          "output_type": "stream",
          "text": [
            "Found 36 images belonging to 2 classes.\n",
            "Found 36 images belonging to 2 classes.\n"
          ],
          "name": "stdout"
        },
        {
          "output_type": "execute_result",
          "data": {
            "text/plain": [
              "(<keras_preprocessing.image.directory_iterator.DirectoryIterator at 0x7f00e23dcd68>,\n",
              " <keras_preprocessing.image.directory_iterator.DirectoryIterator at 0x7f00e052a6d8>)"
            ]
          },
          "metadata": {
            "tags": []
          },
          "execution_count": 27
        }
      ]
    },
    {
      "cell_type": "code",
      "metadata": {
        "id": "FNEQwOor0b1c",
        "colab_type": "code",
        "colab": {
          "base_uri": "https://localhost:8080/",
          "height": 35
        },
        "outputId": "dcb9e3de-ba84-4451-ff2a-6a46f11a175e"
      },
      "source": [
        "data.num_classes"
      ],
      "execution_count": 28,
      "outputs": [
        {
          "output_type": "execute_result",
          "data": {
            "text/plain": [
              "2"
            ]
          },
          "metadata": {
            "tags": []
          },
          "execution_count": 28
        }
      ]
    },
    {
      "cell_type": "code",
      "metadata": {
        "id": "ts7WqbVf0b1n",
        "colab_type": "code",
        "colab": {}
      },
      "source": [
        "from assist.vision.learner import *"
      ],
      "execution_count": 0,
      "outputs": []
    },
    {
      "cell_type": "code",
      "metadata": {
        "scrolled": true,
        "id": "PSwtHxfO0b29",
        "colab_type": "code",
        "colab": {
          "base_uri": "https://localhost:8080/",
          "height": 107
        },
        "outputId": "7633d287-f610-4ba6-f681-02bfa2448a3f"
      },
      "source": [
        "learn = cnn_learner(data)"
      ],
      "execution_count": 30,
      "outputs": [
        {
          "output_type": "stream",
          "text": [
            "/usr/local/lib/python3.6/dist-packages/keras_applications/resnet50.py:265: UserWarning: The output shape of `ResNet50(include_top=False)` has been changed since Keras 2.2.0.\n",
            "  warnings.warn('The output shape of `ResNet50(include_top=False)` '\n"
          ],
          "name": "stderr"
        },
        {
          "output_type": "stream",
          "text": [
            "Downloading data from https://github.com/fchollet/deep-learning-models/releases/download/v0.2/resnet50_weights_tf_dim_ordering_tf_kernels_notop.h5\n",
            "94658560/94653016 [==============================] - 6s 0us/step\n"
          ],
          "name": "stdout"
        }
      ]
    },
    {
      "cell_type": "code",
      "metadata": {
        "id": "V968HCzc0b4x",
        "colab_type": "code",
        "colab": {
          "base_uri": "https://localhost:8080/",
          "height": 260
        },
        "outputId": "ddd040fc-79d4-4515-9669-d54826a74f67"
      },
      "source": [
        "learn.model.summary()"
      ],
      "execution_count": 31,
      "outputs": [
        {
          "output_type": "stream",
          "text": [
            "Model: \"sequential\"\n",
            "_________________________________________________________________\n",
            "Layer (type)                 Output Shape              Param #   \n",
            "=================================================================\n",
            "resnet50 (Model)             (None, 4, 4, 2048)        23587712  \n",
            "_________________________________________________________________\n",
            "global_average_pooling2d (Gl (None, 2048)              0         \n",
            "_________________________________________________________________\n",
            "dense (Dense)                (None, 2)                 4098      \n",
            "=================================================================\n",
            "Total params: 23,591,810\n",
            "Trainable params: 4,098\n",
            "Non-trainable params: 23,587,712\n",
            "_________________________________________________________________\n"
          ],
          "name": "stdout"
        }
      ]
    },
    {
      "cell_type": "code",
      "metadata": {
        "id": "7n8cpMBq0b6A",
        "colab_type": "code",
        "colab": {
          "base_uri": "https://localhost:8080/",
          "height": 191
        },
        "outputId": "3b4b57ce-0663-4a63-9a18-db19c9056561"
      },
      "source": [
        "learn.fit(0.001, 5)"
      ],
      "execution_count": 33,
      "outputs": [
        {
          "output_type": "stream",
          "text": [
            "Epoch 1/5\n",
            "2/2 [==============================] - 4s 2s/step - loss: 0.5770 - accuracy: 0.7500 - val_loss: 1.0677 - val_accuracy: 0.5000\n",
            "Epoch 2/5\n",
            "2/2 [==============================] - 4s 2s/step - loss: 0.5497 - accuracy: 0.8333 - val_loss: 0.8912 - val_accuracy: 0.5000\n",
            "Epoch 3/5\n",
            "2/2 [==============================] - 4s 2s/step - loss: 0.2541 - accuracy: 0.9722 - val_loss: 0.8852 - val_accuracy: 0.5000\n",
            "Epoch 4/5\n",
            "2/2 [==============================] - 4s 2s/step - loss: 0.1711 - accuracy: 0.9722 - val_loss: 0.7331 - val_accuracy: 0.5000\n",
            "Epoch 5/5\n",
            "2/2 [==============================] - 4s 2s/step - loss: 0.1616 - accuracy: 0.9722 - val_loss: 1.0083 - val_accuracy: 0.5000\n"
          ],
          "name": "stdout"
        }
      ]
    },
    {
      "cell_type": "code",
      "metadata": {
        "id": "l0keBUXc0b7V",
        "colab_type": "code",
        "colab": {}
      },
      "source": [
        "test_img = plt.imread('tf_assist-Demo/test2.jpg')"
      ],
      "execution_count": 0,
      "outputs": []
    },
    {
      "cell_type": "code",
      "metadata": {
        "id": "bt8y0RNL0b9B",
        "colab_type": "code",
        "colab": {}
      },
      "source": [
        ""
      ],
      "execution_count": 0,
      "outputs": []
    },
    {
      "cell_type": "code",
      "metadata": {
        "scrolled": true,
        "id": "1rIf_Bl40b9u",
        "colab_type": "code",
        "colab": {}
      },
      "source": [
        "img = tf.image.resize(test_img, (128, 128)).numpy()"
      ],
      "execution_count": 0,
      "outputs": []
    },
    {
      "cell_type": "code",
      "metadata": {
        "id": "IiiXEwLy0b-B",
        "colab_type": "code",
        "colab": {}
      },
      "source": [
        ""
      ],
      "execution_count": 0,
      "outputs": []
    },
    {
      "cell_type": "code",
      "metadata": {
        "id": "zWVzktFj0b-M",
        "colab_type": "code",
        "colab": {}
      },
      "source": [
        ""
      ],
      "execution_count": 0,
      "outputs": []
    }
  ]
}